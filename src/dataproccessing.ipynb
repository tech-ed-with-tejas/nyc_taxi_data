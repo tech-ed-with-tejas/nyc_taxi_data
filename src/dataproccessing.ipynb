{
 "cells": [
  {
   "cell_type": "code",
   "execution_count": 1,
   "metadata": {},
   "outputs": [],
   "source": [
    "import pandas as pd\n"
   ]
  },
  {
   "cell_type": "markdown",
   "metadata": {},
   "source": [
    "Data set Url \n",
    "Yellow _taxi  = https://d37ci6vzurychx.cloudfront.net/trip-data/yellow_tripdata_2014-07.parquet\n",
    "\n",
    "Green_taxi =  https://d37ci6vzurychx.cloudfront.net/trip-data/green_tripdata_2014-07.parquet"
   ]
  },
  {
   "cell_type": "code",
   "execution_count": 2,
   "metadata": {},
   "outputs": [
    {
     "name": "stdout",
     "output_type": "stream",
     "text": [
      "d:\\tejas p\\techedtejas\\nyc_taxi_data\n"
     ]
    },
    {
     "name": "stderr",
     "output_type": "stream",
     "text": [
      "  % Total    % Received % Xferd  Average Speed   Time    Time     Time  Current\n",
      "                                 Dload  Upload   Total   Spent    Left  Speed\n",
      "\n",
      "  0     0    0     0    0     0      0      0 --:--:-- --:--:-- --:--:--     0\n",
      "  0  157M    0  455k    0     0  1329k      0  0:02:01 --:--:--  0:02:01 1345k\n",
      "  1  157M    1 2651k    0     0  1969k      0  0:01:21  0:00:01  0:01:20 1976k\n",
      "  2  157M    2 4303k    0     0  1848k      0  0:01:27  0:00:02  0:01:25 1851k\n",
      "  3  157M    3 5359k    0     0  1607k      0  0:01:40  0:00:03  0:01:37 1609k\n",
      "  4  157M    4 6623k    0     0  1530k      0  0:01:45  0:00:04  0:01:41 1531k\n",
      "  4  157M    4 7791k    0     0  1461k      0  0:01:50  0:00:05  0:01:45 1470k\n",
      "  5  157M    5 9183k    0     0  1448k      0  0:01:51  0:00:06  0:01:45 1307k\n",
      "  6  157M    6 10.6M    0     0  1490k      0  0:01:48  0:00:07  0:01:41 1324k\n",
      "  8  157M    8 12.6M    0     0  1552k      0  0:01:43  0:00:08  0:01:35 1515k\n",
      "  9  157M    9 14.9M    0     0  1637k      0  0:01:38  0:00:09  0:01:29 1731k\n",
      " 11  157M   11 18.6M    0     0  1851k      0  0:01:27  0:00:10  0:01:17 2267k\n",
      " 14  157M   14 22.8M    0     0  2063k      0  0:01:18  0:00:11  0:01:07 2844k\n",
      " 17  157M   17 27.1M    0     0  2257k      0  0:01:11  0:00:12  0:00:59 3383k\n",
      " 19  157M   19 31.4M    0     0  2416k      0  0:01:06  0:00:13  0:00:53 3857k\n",
      " 22  157M   22 35.0M    0     0  2503k      0  0:01:04  0:00:14  0:00:50 4117k\n",
      " 24  157M   24 38.3M    0     0  2564k      0  0:01:02  0:00:15  0:00:47 4039k\n",
      " 25  157M   25 40.1M    0     0  2518k      0  0:01:04  0:00:16  0:00:48 3550k\n",
      " 26  157M   26 41.7M    0     0  2465k      0  0:01:05  0:00:17  0:00:48 2980k\n",
      " 27  157M   27 43.7M    0     0  2442k      0  0:01:06  0:00:18  0:00:48 2512k\n",
      " 29  157M   29 46.2M    0     0  2448k      0  0:01:05  0:00:19  0:00:46 2291k\n",
      " 31  157M   31 48.8M    0     0  2462k      0  0:01:05  0:00:20  0:00:45 2150k\n",
      " 32  157M   32 51.2M    0     0  2457k      0  0:01:05  0:00:21  0:00:44 2258k\n",
      " 33  157M   33 53.1M    0     0  2435k      0  0:01:06  0:00:22  0:00:44 2329k\n",
      " 34  157M   34 55.0M    0     0  2409k      0  0:01:06  0:00:23  0:00:43 2290k\n",
      " 36  157M   36 57.2M    0     0  2409k      0  0:01:06  0:00:24  0:00:42 2259k\n",
      " 38  157M   38 60.4M    0     0  2443k      0  0:01:05  0:00:25  0:00:40 2363k\n",
      " 40  157M   40 63.0M    0     0  2452k      0  0:01:05  0:00:26  0:00:39 2429k\n",
      " 41  157M   41 65.5M    0     0  2455k      0  0:01:05  0:00:27  0:00:38 2546k\n",
      " 43  157M   43 68.2M    0     0  2468k      0  0:01:05  0:00:28  0:00:37 2742k\n",
      " 45  157M   45 71.6M    0     0  2501k      0  0:01:04  0:00:29  0:00:35 2947k\n",
      " 47  157M   47 75.2M    0     0  2539k      0  0:01:03  0:00:30  0:00:33 3025k\n",
      " 50  157M   50 78.7M    0     0  2574k      0  0:01:02  0:00:31  0:00:31 3214k\n",
      " 52  157M   52 82.6M    0     0  2619k      0  0:01:01  0:00:32  0:00:29 3513k\n",
      " 55  157M   55 86.8M    0     0  2669k      0  0:01:00  0:00:33  0:00:27 3812k\n",
      " 57  157M   57 89.8M    0     0  2679k      0  0:01:00  0:00:34  0:00:26 3725k\n",
      " 59  157M   59 93.6M    0     0  2714k      0  0:00:59  0:00:35  0:00:24 3779k\n",
      " 61  157M   61 97.2M    0     0  2740k      0  0:00:58  0:00:36  0:00:22 3786k\n",
      " 64  157M   64  101M    0     0  2774k      0  0:00:58  0:00:37  0:00:21 3779k\n",
      " 66  157M   66  105M    0     0  2813k      0  0:00:57  0:00:38  0:00:19 3775k\n",
      " 68  157M   68  108M    0     0  2821k      0  0:00:57  0:00:39  0:00:18 3792k\n",
      " 71  157M   71  111M    0     0  2842k      0  0:00:56  0:00:40  0:00:16 3748k\n",
      " 73  157M   73  116M    0     0  2878k      0  0:00:56  0:00:41  0:00:15 3877k\n",
      " 76  157M   76  120M    0     0  2904k      0  0:00:55  0:00:42  0:00:13 3870k\n",
      " 78  157M   78  123M    0     0  2916k      0  0:00:55  0:00:43  0:00:12 3706k\n",
      " 80  157M   80  126M    0     0  2929k      0  0:00:55  0:00:44  0:00:11 3780k\n",
      " 82  157M   82  129M    0     0  2921k      0  0:00:55  0:00:45  0:00:10 3559k\n",
      " 83  157M   83  131M    0     0  2914k      0  0:00:55  0:00:46  0:00:09 3208k\n",
      " 85  157M   85  134M    0     0  2902k      0  0:00:55  0:00:47  0:00:08 2888k\n",
      " 87  157M   87  137M    0     0  2906k      0  0:00:55  0:00:48  0:00:07 2817k\n",
      " 89  157M   89  140M    0     0  2916k      0  0:00:55  0:00:49  0:00:06 2799k\n",
      " 91  157M   91  143M    0     0  2926k      0  0:00:55  0:00:50  0:00:05 2972k\n",
      " 93  157M   93  146M    0     0  2931k      0  0:00:55  0:00:51  0:00:04 3091k\n",
      " 94  157M   94  149M    0     0  2926k      0  0:00:55  0:00:52  0:00:03 3147k\n",
      " 96  157M   96  152M    0     0  2932k      0  0:00:54  0:00:53  0:00:01 3178k\n",
      " 98  157M   98  155M    0     0  2933k      0  0:00:54  0:00:54 --:--:-- 3104k\n",
      "100  157M  100  157M    0     0  2933k      0  0:00:54  0:00:54 --:--:-- 3004k\n",
      "  % Total    % Received % Xferd  Average Speed   Time    Time     Time  Current\n",
      "                                 Dload  Upload   Total   Spent    Left  Speed\n",
      "\n",
      "  0     0    0     0    0     0      0      0 --:--:-- --:--:-- --:--:--     0\n",
      "  0     0    0     0    0     0      0      0 --:--:-- --:--:-- --:--:--     0\n",
      "  0 18.3M    0 18943    0     0  14003      0  0:22:52  0:00:01  0:22:51 14126\n",
      "  5 18.3M    5  983k    0     0   447k      0  0:00:41  0:00:02  0:00:39  450k\n",
      " 20 18.3M   20 3917k    0     0  1224k      0  0:00:15  0:00:03  0:00:12 1228k\n",
      " 41 18.3M   41 7805k    0     0  1855k      0  0:00:10  0:00:04  0:00:06 1861k\n",
      " 60 18.3M   60 11.0M    0     0  2173k      0  0:00:08  0:00:05  0:00:03 2266k\n",
      " 76 18.3M   76 14.0M    0     0  2315k      0  0:00:08  0:00:06  0:00:02 2957k\n",
      " 93 18.3M   93 17.0M    0     0  2427k      0  0:00:07  0:00:07 --:--:-- 3296k\n",
      "100 18.3M  100 18.3M    0     0  2455k      0  0:00:07  0:00:07 --:--:-- 3342k\n"
     ]
    }
   ],
   "source": [
    "%cd ..\n",
    "!curl -o Data/Yellow_taxi.parquet https://d37ci6vzurychx.cloudfront.net/trip-data/yellow_tripdata_2014-07.parquet\n",
    "!curl -o Data/Green_taxi.parquet https://d37ci6vzurychx.cloudfront.net/trip-data/green_tripdata_2014-07.parquet"
   ]
  },
  {
   "cell_type": "code",
   "execution_count": 3,
   "metadata": {},
   "outputs": [],
   "source": [
    "yellow_path = \"Data/Yellow_taxi.parquet\"\n",
    "\n",
    "green_path = \"Data/Green_taxi.parquet\""
   ]
  },
  {
   "cell_type": "code",
   "execution_count": 4,
   "metadata": {},
   "outputs": [],
   "source": [
    "# load the paraquet file "
   ]
  },
  {
   "cell_type": "code",
   "execution_count": 5,
   "metadata": {},
   "outputs": [],
   "source": [
    "yello_data = pd.read_parquet(yellow_path)\n",
    "Green_taxi= pd.read_parquet(green_path)"
   ]
  },
  {
   "cell_type": "code",
   "execution_count": null,
   "metadata": {},
   "outputs": [],
   "source": []
  }
 ],
 "metadata": {
  "kernelspec": {
   "display_name": "Python 3",
   "language": "python",
   "name": "python3"
  },
  "language_info": {
   "codemirror_mode": {
    "name": "ipython",
    "version": 3
   },
   "file_extension": ".py",
   "mimetype": "text/x-python",
   "name": "python",
   "nbconvert_exporter": "python",
   "pygments_lexer": "ipython3",
   "version": "3.10.2"
  },
  "orig_nbformat": 4
 },
 "nbformat": 4,
 "nbformat_minor": 2
}
